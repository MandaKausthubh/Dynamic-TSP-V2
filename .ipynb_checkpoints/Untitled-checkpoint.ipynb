{
 "cells": [
  {
   "cell_type": "code",
   "execution_count": 1,
   "id": "15490332-912b-4649-aaec-4e9965699004",
   "metadata": {},
   "outputs": [
    {
     "name": "stderr",
     "output_type": "stream",
     "text": [
      "/var/folders/mh/r3bzvtd11h105hlbbgl239940000gn/T/ipykernel_45072/2143682324.py:2: DeprecationWarning: ``qiskit.algorithms`` has been migrated to an independent package: https://github.com/qiskit-community/qiskit-algorithms. The ``qiskit.algorithms`` import path is deprecated as of qiskit-terra 0.25.0 and will be removed no earlier than 3 months after the release date. Please run ``pip install qiskit_algorithms`` and use ``import qiskit_algorithms`` instead.\n",
      "  from qiskit.algorithms.optimizers import COBYLA\n"
     ]
    }
   ],
   "source": [
    "import numpy as np\n",
    "from qiskit.algorithms.optimizers import COBYLA\n",
    "from qiskit.quantum_info import SparsePauliOp\n",
    "from qiskit.algorithms.minimum_eigensolvers import QAOA\n",
    "from qiskit.primitives import Sampler\n",
    "from qiskit import Aer\n",
    "from qiskit.circuit.library import QAOAAnsatz"
   ]
  },
  {
   "cell_type": "code",
   "execution_count": 2,
   "id": "ba3b058d-09c1-460c-9193-44ea30ff61b0",
   "metadata": {},
   "outputs": [],
   "source": [
    "def BuildQAOAHamiltonian(Q:np.ndarray, c:np.ndarray):\n",
    "    Pauli_List = []\n",
    "    n = Q.shape[0]\n",
    "    for i in range(n):\n",
    "        for j in range(n):\n",
    "            Pauli_Str = [\"I\"] * n\n",
    "            Pauli_Str[i], Pauli_Str[j] = \"Z\", \"Z\"\n",
    "            weight = float(Q[i,j]/4)\n",
    "            Pauli_List.append((\"\".join(Pauli_Str)[::-1], weight))\n",
    "\n",
    "    for i in range(n):\n",
    "        Pauli_Str = [\"I\"] * n\n",
    "        Pauli_Str[i] = \"Z\"\n",
    "        weight = float(-(c[i] + np.sum(Q[i, :])) / 2)\n",
    "        Pauli_List.append((\"\".join(Pauli_Str)[::-1], weight))\n",
    "\n",
    "    return SparsePauliOp.from_list(Pauli_List)"
   ]
  },
  {
   "cell_type": "code",
   "execution_count": 3,
   "id": "c92001d6-ff21-48da-9d6d-017f782ae706",
   "metadata": {},
   "outputs": [],
   "source": [
    "Q = np.array([\n",
    "    [-1, 0, -2],\n",
    "    [0, -2, 2],\n",
    "    [0, 0, 2]\n",
    "], dtype=float)\n",
    "\n",
    "c = np.array([1,-1,0])"
   ]
  },
  {
   "cell_type": "code",
   "execution_count": 4,
   "id": "15d43204-7f22-466b-a9e3-757b85058125",
   "metadata": {},
   "outputs": [
    {
     "data": {
      "text/plain": [
       "SparsePauliOp(['IIZ', 'IZZ', 'ZIZ', 'IZZ', 'IZI', 'ZZI', 'ZIZ', 'ZZI', 'ZII', 'IIZ', 'IZI', 'ZII'],\n",
       "              coeffs=[-0.25+0.j,  0.  +0.j, -0.5 +0.j,  0.  +0.j, -0.5 +0.j,  0.5 +0.j,\n",
       "  0.  +0.j,  0.  +0.j,  0.5 +0.j,  1.  +0.j,  0.5 +0.j, -1.  +0.j])"
      ]
     },
     "execution_count": 4,
     "metadata": {},
     "output_type": "execute_result"
    }
   ],
   "source": [
    "Hamiltonian = BuildQAOAHamiltonian(Q, c)\n",
    "Hamiltonian"
   ]
  },
  {
   "cell_type": "code",
   "execution_count": 5,
   "id": "773f9b8e-0ba8-44fb-b31b-be46505a5979",
   "metadata": {},
   "outputs": [
    {
     "ename": "MissingOptionalLibraryError",
     "evalue": "\"The 'qiskit-aer' library is required to use 'Aer provider'. You can install it with 'pip install qiskit-aer'.\"",
     "output_type": "error",
     "traceback": [
      "\u001b[0;31m---------------------------------------------------------------------------\u001b[0m",
      "\u001b[0;31mImportError\u001b[0m                               Traceback (most recent call last)",
      "File \u001b[0;32m~/miniconda3/envs/QUBO/lib/python3.9/site-packages/qiskit/__init__.py:123\u001b[0m, in \u001b[0;36mAerWrapper.__getattr__\u001b[0;34m(self, attr)\u001b[0m\n\u001b[1;32m    122\u001b[0m \u001b[38;5;28;01mtry\u001b[39;00m:\n\u001b[0;32m--> 123\u001b[0m     \u001b[38;5;28;01mfrom\u001b[39;00m\u001b[38;5;250m \u001b[39m\u001b[38;5;21;01mqiskit\u001b[39;00m\u001b[38;5;21;01m.\u001b[39;00m\u001b[38;5;21;01mproviders\u001b[39;00m\u001b[38;5;250m \u001b[39m\u001b[38;5;28;01mimport\u001b[39;00m aer\n\u001b[1;32m    125\u001b[0m     \u001b[38;5;28mself\u001b[39m\u001b[38;5;241m.\u001b[39maer \u001b[38;5;241m=\u001b[39m aer\u001b[38;5;241m.\u001b[39mAer\n",
      "File \u001b[0;32m~/miniconda3/envs/QUBO/lib/python3.9/site-packages/qiskit/namespace.py:68\u001b[0m, in \u001b[0;36mQiskitElementImport.find_spec\u001b[0;34m(self, fullname, path, target)\u001b[0m\n\u001b[1;32m     67\u001b[0m \u001b[38;5;28;01mtry\u001b[39;00m:\n\u001b[0;32m---> 68\u001b[0m     \u001b[43mimportlib\u001b[49m\u001b[38;5;241;43m.\u001b[39;49m\u001b[43mimport_module\u001b[49m\u001b[43m(\u001b[49m\n\u001b[1;32m     69\u001b[0m \u001b[43m        \u001b[49m\u001b[43m_new_namespace\u001b[49m\u001b[43m(\u001b[49m\u001b[43mfullname\u001b[49m\u001b[43m,\u001b[49m\u001b[43m \u001b[49m\u001b[38;5;28;43mself\u001b[39;49m\u001b[38;5;241;43m.\u001b[39;49m\u001b[43mold_namespace\u001b[49m\u001b[43m,\u001b[49m\u001b[43m \u001b[49m\u001b[38;5;28;43mself\u001b[39;49m\u001b[38;5;241;43m.\u001b[39;49m\u001b[43mnew_package\u001b[49m\u001b[43m)\u001b[49m\n\u001b[1;32m     70\u001b[0m \u001b[43m    \u001b[49m\u001b[43m)\u001b[49m\n\u001b[1;32m     71\u001b[0m     \u001b[38;5;28;01mreturn\u001b[39;00m importlib\u001b[38;5;241m.\u001b[39mutil\u001b[38;5;241m.\u001b[39mspec_from_loader(\n\u001b[1;32m     72\u001b[0m         fullname, QiskitLoader(\u001b[38;5;28mself\u001b[39m\u001b[38;5;241m.\u001b[39mnew_package, \u001b[38;5;28mself\u001b[39m\u001b[38;5;241m.\u001b[39mold_namespace), origin\u001b[38;5;241m=\u001b[39m\u001b[38;5;124m\"\u001b[39m\u001b[38;5;124mqiskit\u001b[39m\u001b[38;5;124m\"\u001b[39m\n\u001b[1;32m     73\u001b[0m     )\n",
      "File \u001b[0;32m~/miniconda3/envs/QUBO/lib/python3.9/importlib/__init__.py:127\u001b[0m, in \u001b[0;36mimport_module\u001b[0;34m(name, package)\u001b[0m\n\u001b[1;32m    126\u001b[0m         level \u001b[38;5;241m+\u001b[39m\u001b[38;5;241m=\u001b[39m \u001b[38;5;241m1\u001b[39m\n\u001b[0;32m--> 127\u001b[0m \u001b[38;5;28;01mreturn\u001b[39;00m \u001b[43m_bootstrap\u001b[49m\u001b[38;5;241;43m.\u001b[39;49m\u001b[43m_gcd_import\u001b[49m\u001b[43m(\u001b[49m\u001b[43mname\u001b[49m\u001b[43m[\u001b[49m\u001b[43mlevel\u001b[49m\u001b[43m:\u001b[49m\u001b[43m]\u001b[49m\u001b[43m,\u001b[49m\u001b[43m \u001b[49m\u001b[43mpackage\u001b[49m\u001b[43m,\u001b[49m\u001b[43m \u001b[49m\u001b[43mlevel\u001b[49m\u001b[43m)\u001b[49m\n",
      "File \u001b[0;32m~/miniconda3/envs/QUBO/lib/python3.9/site-packages/qiskit_aer/__init__.py:69\u001b[0m\n\u001b[1;32m     66\u001b[0m \u001b[38;5;66;03m# ... ¯\\_(ツ)_/¯\u001b[39;00m\n\u001b[1;32m     67\u001b[0m \n\u001b[1;32m     68\u001b[0m \u001b[38;5;66;03m# pylint: disable=wrong-import-position\u001b[39;00m\n\u001b[0;32m---> 69\u001b[0m \u001b[38;5;28;01mfrom\u001b[39;00m\u001b[38;5;250m \u001b[39m\u001b[38;5;21;01mqiskit_aer\u001b[39;00m\u001b[38;5;21;01m.\u001b[39;00m\u001b[38;5;21;01maerprovider\u001b[39;00m\u001b[38;5;250m \u001b[39m\u001b[38;5;28;01mimport\u001b[39;00m AerProvider\n\u001b[1;32m     70\u001b[0m \u001b[38;5;28;01mfrom\u001b[39;00m\u001b[38;5;250m \u001b[39m\u001b[38;5;21;01mqiskit_aer\u001b[39;00m\u001b[38;5;21;01m.\u001b[39;00m\u001b[38;5;21;01mjobs\u001b[39;00m\u001b[38;5;250m \u001b[39m\u001b[38;5;28;01mimport\u001b[39;00m AerJob, AerJobSet\n",
      "File \u001b[0;32m~/miniconda3/envs/QUBO/lib/python3.9/site-packages/qiskit_aer/aerprovider.py:20\u001b[0m\n\u001b[1;32m     18\u001b[0m \u001b[38;5;28;01mfrom\u001b[39;00m\u001b[38;5;250m \u001b[39m\u001b[38;5;21;01mqiskit\u001b[39;00m\u001b[38;5;21;01m.\u001b[39;00m\u001b[38;5;21;01mproviders\u001b[39;00m\u001b[38;5;21;01m.\u001b[39;00m\u001b[38;5;21;01mproviderutils\u001b[39;00m\u001b[38;5;250m \u001b[39m\u001b[38;5;28;01mimport\u001b[39;00m filter_backends\n\u001b[0;32m---> 20\u001b[0m \u001b[38;5;28;01mfrom\u001b[39;00m\u001b[38;5;250m \u001b[39m\u001b[38;5;21;01m.\u001b[39;00m\u001b[38;5;21;01mbackends\u001b[39;00m\u001b[38;5;21;01m.\u001b[39;00m\u001b[38;5;21;01maer_simulator\u001b[39;00m\u001b[38;5;250m \u001b[39m\u001b[38;5;28;01mimport\u001b[39;00m AerSimulator\n\u001b[1;32m     21\u001b[0m \u001b[38;5;28;01mfrom\u001b[39;00m\u001b[38;5;250m \u001b[39m\u001b[38;5;21;01m.\u001b[39;00m\u001b[38;5;21;01mbackends\u001b[39;00m\u001b[38;5;21;01m.\u001b[39;00m\u001b[38;5;21;01mqasm_simulator\u001b[39;00m\u001b[38;5;250m \u001b[39m\u001b[38;5;28;01mimport\u001b[39;00m QasmSimulator\n",
      "File \u001b[0;32m~/miniconda3/envs/QUBO/lib/python3.9/site-packages/qiskit_aer/backends/__init__.py:17\u001b[0m\n\u001b[1;32m     13\u001b[0m \u001b[38;5;124;03m\"\"\"\u001b[39;00m\n\u001b[1;32m     14\u001b[0m \u001b[38;5;124;03mAer Provider Simulator Backends\u001b[39;00m\n\u001b[1;32m     15\u001b[0m \u001b[38;5;124;03m\"\"\"\u001b[39;00m\n\u001b[0;32m---> 17\u001b[0m \u001b[38;5;28;01mfrom\u001b[39;00m\u001b[38;5;250m \u001b[39m\u001b[38;5;21;01m.\u001b[39;00m\u001b[38;5;21;01maer_simulator\u001b[39;00m\u001b[38;5;250m \u001b[39m\u001b[38;5;28;01mimport\u001b[39;00m AerSimulator\n\u001b[1;32m     18\u001b[0m \u001b[38;5;28;01mfrom\u001b[39;00m\u001b[38;5;250m \u001b[39m\u001b[38;5;21;01m.\u001b[39;00m\u001b[38;5;21;01mqasm_simulator\u001b[39;00m\u001b[38;5;250m \u001b[39m\u001b[38;5;28;01mimport\u001b[39;00m QasmSimulator\n",
      "File \u001b[0;32m~/miniconda3/envs/QUBO/lib/python3.9/site-packages/qiskit_aer/backends/aer_simulator.py:24\u001b[0m\n\u001b[1;32m     23\u001b[0m \u001b[38;5;28;01mfrom\u001b[39;00m\u001b[38;5;250m \u001b[39m\u001b[38;5;21;01m.\u001b[39;00m\u001b[38;5;21;01m.\u001b[39;00m\u001b[38;5;21;01mversion\u001b[39;00m\u001b[38;5;250m \u001b[39m\u001b[38;5;28;01mimport\u001b[39;00m __version__\n\u001b[0;32m---> 24\u001b[0m \u001b[38;5;28;01mfrom\u001b[39;00m\u001b[38;5;250m \u001b[39m\u001b[38;5;21;01m.\u001b[39;00m\u001b[38;5;21;01maerbackend\u001b[39;00m\u001b[38;5;250m \u001b[39m\u001b[38;5;28;01mimport\u001b[39;00m AerBackend, AerError\n\u001b[1;32m     25\u001b[0m \u001b[38;5;28;01mfrom\u001b[39;00m\u001b[38;5;250m \u001b[39m\u001b[38;5;21;01m.\u001b[39;00m\u001b[38;5;21;01mbackend_utils\u001b[39;00m\u001b[38;5;250m \u001b[39m\u001b[38;5;28;01mimport\u001b[39;00m (\n\u001b[1;32m     26\u001b[0m     cpp_execute_circuits,\n\u001b[1;32m     27\u001b[0m     cpp_execute_qobj,\n\u001b[0;32m   (...)\u001b[0m\n\u001b[1;32m     31\u001b[0m     BASIS_GATES,\n\u001b[1;32m     32\u001b[0m )\n",
      "File \u001b[0;32m~/miniconda3/envs/QUBO/lib/python3.9/site-packages/qiskit_aer/backends/aerbackend.py:39\u001b[0m\n\u001b[1;32m     38\u001b[0m \u001b[38;5;28;01mfrom\u001b[39;00m\u001b[38;5;250m \u001b[39m\u001b[38;5;21;01m.\u001b[39;00m\u001b[38;5;21;01mbackend_utils\u001b[39;00m\u001b[38;5;250m \u001b[39m\u001b[38;5;28;01mimport\u001b[39;00m format_save_type, circuit_optypes\n\u001b[0;32m---> 39\u001b[0m \u001b[38;5;28;01mfrom\u001b[39;00m\u001b[38;5;250m \u001b[39m\u001b[38;5;21;01m.\u001b[39;00m\u001b[38;5;21;01mname_mapping\u001b[39;00m\u001b[38;5;250m \u001b[39m\u001b[38;5;28;01mimport\u001b[39;00m NAME_MAPPING\n\u001b[1;32m     41\u001b[0m \u001b[38;5;66;03m# pylint: disable=import-error, no-name-in-module, abstract-method\u001b[39;00m\n",
      "File \u001b[0;32m~/miniconda3/envs/QUBO/lib/python3.9/site-packages/qiskit_aer/backends/name_mapping.py:19\u001b[0m\n\u001b[1;32m     18\u001b[0m \u001b[38;5;28;01mfrom\u001b[39;00m\u001b[38;5;250m \u001b[39m\u001b[38;5;21;01mqiskit\u001b[39;00m\u001b[38;5;21;01m.\u001b[39;00m\u001b[38;5;21;01mcircuit\u001b[39;00m\u001b[38;5;21;01m.\u001b[39;00m\u001b[38;5;21;01mreset\u001b[39;00m\u001b[38;5;250m \u001b[39m\u001b[38;5;28;01mimport\u001b[39;00m Reset\n\u001b[0;32m---> 19\u001b[0m \u001b[38;5;28;01mfrom\u001b[39;00m\u001b[38;5;250m \u001b[39m\u001b[38;5;21;01mqiskit\u001b[39;00m\u001b[38;5;21;01m.\u001b[39;00m\u001b[38;5;21;01mcircuit\u001b[39;00m\u001b[38;5;21;01m.\u001b[39;00m\u001b[38;5;21;01mlibrary\u001b[39;00m\u001b[38;5;250m \u001b[39m\u001b[38;5;28;01mimport\u001b[39;00m (\n\u001b[1;32m     20\u001b[0m     U2Gate,\n\u001b[1;32m     21\u001b[0m     RGate,\n\u001b[1;32m     22\u001b[0m     CYGate,\n\u001b[1;32m     23\u001b[0m     CZGate,\n\u001b[1;32m     24\u001b[0m     CSXGate,\n\u001b[1;32m     25\u001b[0m     CU3Gate,\n\u001b[1;32m     26\u001b[0m     CSwapGate,\n\u001b[1;32m     27\u001b[0m     PauliGate,\n\u001b[1;32m     28\u001b[0m     DiagonalGate,\n\u001b[1;32m     29\u001b[0m     UnitaryGate,\n\u001b[1;32m     30\u001b[0m     MCPhaseGate,\n\u001b[1;32m     31\u001b[0m     MCXGate,\n\u001b[1;32m     32\u001b[0m     CRXGate,\n\u001b[1;32m     33\u001b[0m     CRYGate,\n\u001b[1;32m     34\u001b[0m     CRZGate,\n\u001b[1;32m     35\u001b[0m     MCU1Gate,\n\u001b[1;32m     36\u001b[0m     MCXGrayCode,\n\u001b[1;32m     37\u001b[0m )\n\u001b[1;32m     38\u001b[0m \u001b[38;5;28;01mfrom\u001b[39;00m\u001b[38;5;250m \u001b[39m\u001b[38;5;21;01mqiskit\u001b[39;00m\u001b[38;5;21;01m.\u001b[39;00m\u001b[38;5;21;01mcircuit\u001b[39;00m\u001b[38;5;21;01m.\u001b[39;00m\u001b[38;5;21;01mcontrolflow\u001b[39;00m\u001b[38;5;250m \u001b[39m\u001b[38;5;28;01mimport\u001b[39;00m (\n\u001b[1;32m     39\u001b[0m     IfElseOp,\n\u001b[1;32m     40\u001b[0m     WhileLoopOp,\n\u001b[0;32m   (...)\u001b[0m\n\u001b[1;32m     44\u001b[0m     SwitchCaseOp,\n\u001b[1;32m     45\u001b[0m )\n",
      "\u001b[0;31mImportError\u001b[0m: cannot import name 'DiagonalGate' from 'qiskit.circuit.library' (/Users/mandakausthubh/miniconda3/envs/QUBO/lib/python3.9/site-packages/qiskit/circuit/library/__init__.py)",
      "\nThe above exception was the direct cause of the following exception:\n",
      "\u001b[0;31mMissingOptionalLibraryError\u001b[0m               Traceback (most recent call last)",
      "Cell \u001b[0;32mIn[5], line 1\u001b[0m\n\u001b[0;32m----> 1\u001b[0m backend \u001b[38;5;241m=\u001b[39m \u001b[43mAer\u001b[49m\u001b[38;5;241;43m.\u001b[39;49m\u001b[43mget_backend\u001b[49m(\u001b[38;5;124m'\u001b[39m\u001b[38;5;124mqasm_simulator\u001b[39m\u001b[38;5;124m'\u001b[39m)\n\u001b[1;32m      2\u001b[0m quantum_instance \u001b[38;5;241m=\u001b[39m QuantumInstance(backend, shots\u001b[38;5;241m=\u001b[39m\u001b[38;5;241m1024\u001b[39m)\n",
      "File \u001b[0;32m~/miniconda3/envs/QUBO/lib/python3.9/site-packages/qiskit/__init__.py:134\u001b[0m, in \u001b[0;36mAerWrapper.__getattr__\u001b[0;34m(self, attr)\u001b[0m\n\u001b[1;32m    126\u001b[0m         warnings\u001b[38;5;241m.\u001b[39mwarn(\n\u001b[1;32m    127\u001b[0m             \u001b[38;5;124m\"\u001b[39m\u001b[38;5;124mThe qiskit.Aer entry point will be deprecated in a future release and \u001b[39m\u001b[38;5;124m\"\u001b[39m\n\u001b[1;32m    128\u001b[0m             \u001b[38;5;124m\"\u001b[39m\u001b[38;5;124msubsequently removed. Instead you should use this \u001b[39m\u001b[38;5;124m\"\u001b[39m\n\u001b[0;32m   (...)\u001b[0m\n\u001b[1;32m    131\u001b[0m             stacklevel\u001b[38;5;241m=\u001b[39m\u001b[38;5;241m2\u001b[39m,\n\u001b[1;32m    132\u001b[0m         )\n\u001b[1;32m    133\u001b[0m     \u001b[38;5;28;01mexcept\u001b[39;00m \u001b[38;5;167;01mImportError\u001b[39;00m \u001b[38;5;28;01mas\u001b[39;00m ex:\n\u001b[0;32m--> 134\u001b[0m         \u001b[38;5;28;01mraise\u001b[39;00m MissingOptionalLibraryError(\n\u001b[1;32m    135\u001b[0m             \u001b[38;5;124m\"\u001b[39m\u001b[38;5;124mqiskit-aer\u001b[39m\u001b[38;5;124m\"\u001b[39m, \u001b[38;5;124m\"\u001b[39m\u001b[38;5;124mAer provider\u001b[39m\u001b[38;5;124m\"\u001b[39m, \u001b[38;5;124m\"\u001b[39m\u001b[38;5;124mpip install qiskit-aer\u001b[39m\u001b[38;5;124m\"\u001b[39m\n\u001b[1;32m    136\u001b[0m         ) \u001b[38;5;28;01mfrom\u001b[39;00m\u001b[38;5;250m \u001b[39m\u001b[38;5;21;01mex\u001b[39;00m\n\u001b[1;32m    137\u001b[0m \u001b[38;5;28;01mreturn\u001b[39;00m \u001b[38;5;28mgetattr\u001b[39m(\u001b[38;5;28mself\u001b[39m\u001b[38;5;241m.\u001b[39maer, attr)\n",
      "\u001b[0;31mMissingOptionalLibraryError\u001b[0m: \"The 'qiskit-aer' library is required to use 'Aer provider'. You can install it with 'pip install qiskit-aer'.\""
     ]
    }
   ],
   "source": [
    "backend = Aer.get_backend('qasm_simulator')\n",
    "quantum_instance = QuantumInstance(backend, shots=1024)"
   ]
  },
  {
   "cell_type": "code",
   "execution_count": null,
   "id": "cd467f89-e725-45fd-b6f3-4b0cf7c808d2",
   "metadata": {},
   "outputs": [],
   "source": [
    "optimizer = COBYLA(maxiter=100)\n",
    "qaoa = QAOA(optimizer=optimizer, reps=1, quantum_instance=quantum_instance)"
   ]
  },
  {
   "cell_type": "code",
   "execution_count": null,
   "id": "8fa77449-5ed6-41ec-b617-d37a118d94f1",
   "metadata": {},
   "outputs": [],
   "source": [
    "result = qaoa.compute_minimum_eigenvalue(operator=H)\n",
    "\n",
    "# Output results\n",
    "print(\"\\nOptimal Parameters:\", result.optimal_parameters)\n",
    "print(\"Minimum Eigenvalue (approx):\", result.eigenvalue.real)\n",
    "\n",
    "# To get the final circuit\n",
    "qc = qaoa.ansatz.bind_parameters(result.optimal_parameters)\n",
    "qc.measure_all()\n",
    "\n",
    "# Run the final circuit to get counts\n",
    "from qiskit import execute\n",
    "job = execute(qc, backend, shots=1024)\n",
    "counts = job.result().get_counts()\n",
    "\n",
    "print(\"\\nFinal Measurement Counts:\", counts)\n"
   ]
  }
 ],
 "metadata": {
  "kernelspec": {
   "display_name": "Python 3 (ipykernel)",
   "language": "python",
   "name": "python3"
  },
  "language_info": {
   "codemirror_mode": {
    "name": "ipython",
    "version": 3
   },
   "file_extension": ".py",
   "mimetype": "text/x-python",
   "name": "python",
   "nbconvert_exporter": "python",
   "pygments_lexer": "ipython3",
   "version": "3.9.18"
  }
 },
 "nbformat": 4,
 "nbformat_minor": 5
}
