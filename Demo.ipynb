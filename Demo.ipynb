{
 "cells": [
  {
   "cell_type": "code",
   "execution_count": 1,
   "id": "3b0ef376-2d04-4624-97c8-0e8e5c085039",
   "metadata": {},
   "outputs": [],
   "source": [
    "from utils.ClassicalSolver import DynamicGraph\n",
    "from utils.QuantumSolver import QuantumQUBOSolver\n",
    "from rustworkx.visualization import mpl_draw\n",
    "import numpy as np"
   ]
  },
  {
   "cell_type": "code",
   "execution_count": 2,
   "id": "1b7e905c-d4bf-4199-8cb9-c59432617458",
   "metadata": {},
   "outputs": [],
   "source": [
    "# Q = np.array([\n",
    "#     [-3, 1, 1, 1],\n",
    "#     [1, -3, 1, 1],\n",
    "#     [1, 1, -3, 1],\n",
    "#     [1, 1, 1, -3]\n",
    "# ], dtype=np.float64)\n",
    "\n",
    "# # Define the linear term (bias term)\n",
    "# c = np.array([0, 0, 0, 0], dtype=np.float64)\n",
    "\n",
    "# result, shift = QuantumQUBOSolver(Q, c).solve(20)\n",
    "\n",
    "# print(result)"
   ]
  },
  {
   "cell_type": "code",
   "execution_count": 3,
   "id": "1c682493-294e-4240-9fde-d6f4ff914511",
   "metadata": {},
   "outputs": [],
   "source": [
    "from qiskit_algorithms.utils import algorithm_globals\n",
    "from qiskit_algorithms import QAOA, NumPyMinimumEigensolver\n",
    "from qiskit_algorithms.optimizers import COBYLA\n",
    "from qiskit.primitives import Sampler\n",
    "from qiskit_optimization.algorithms import (\n",
    "    MinimumEigenOptimizer,\n",
    "    RecursiveMinimumEigenOptimizer,\n",
    "    SolutionSample,\n",
    "    OptimizationResultStatus,\n",
    ")\n",
    "from qiskit_optimization import QuadraticProgram\n",
    "from qiskit.visualization import plot_histogram\n",
    "from typing import List, Tuple\n",
    "import numpy as np"
   ]
  },
  {
   "cell_type": "code",
   "execution_count": 4,
   "id": "0f3d4b00-cdb0-4aaf-b854-27b352aef6ee",
   "metadata": {},
   "outputs": [
    {
     "name": "stdout",
     "output_type": "stream",
     "text": [
      "Problem name: \n",
      "\n",
      "Minimize\n",
      "  x*y - x*z + 2*y*z + x - 2*y + 3*z\n",
      "\n",
      "Subject to\n",
      "  No constraints\n",
      "\n",
      "  Binary variables (3)\n",
      "    x y z\n",
      "\n"
     ]
    }
   ],
   "source": [
    "qubo = QuadraticProgram()\n",
    "qubo.binary_var(\"x\")\n",
    "qubo.binary_var(\"y\")\n",
    "qubo.binary_var(\"z\")\n",
    "qubo.minimize(linear=[1, -2, 3], quadratic={(\"x\", \"y\"): 1, (\"x\", \"z\"): -1, (\"y\", \"z\"): 2})\n",
    "print(qubo.prettyprint())"
   ]
  },
  {
   "cell_type": "code",
   "execution_count": 5,
   "id": "135c5fd1-2890-4c42-aaf6-04011eb79db0",
   "metadata": {},
   "outputs": [
    {
     "name": "stdout",
     "output_type": "stream",
     "text": [
      "offset: 1.5\n",
      "operator:\n",
      "SparsePauliOp(['IIZ', 'IZI', 'ZII', 'IZZ', 'ZIZ', 'ZZI'],\n",
      "              coeffs=[-0.5 +0.j,  0.25+0.j, -1.75+0.j,  0.25+0.j, -0.25+0.j,  0.5 +0.j])\n"
     ]
    }
   ],
   "source": [
    "op, offset = qubo.to_ising()\n",
    "print(\"offset: {}\".format(offset))\n",
    "print(\"operator:\")\n",
    "print(op)"
   ]
  },
  {
   "cell_type": "code",
   "execution_count": 6,
   "id": "f5c4255d-72b2-4251-94d5-35a2b3030f0b",
   "metadata": {},
   "outputs": [],
   "source": [
    "algorithm_globals.random_seed = 10598\n",
    "qaoa_mes = QAOA(sampler=Sampler(), optimizer=COBYLA(), initial_point=[0.0, 0.0])\n",
    "exact_mes = NumPyMinimumEigensolver()"
   ]
  },
  {
   "cell_type": "code",
   "execution_count": 7,
   "id": "fb62dd92-d91b-4fa5-bb18-10bbac58aba7",
   "metadata": {},
   "outputs": [],
   "source": [
    "qaoa = MinimumEigenOptimizer(qaoa_mes)  # using QAOA\n",
    "exact = MinimumEigenOptimizer(exact_mes)  # using the exact classical numpy minimum eigen solver"
   ]
  },
  {
   "cell_type": "code",
   "execution_count": 8,
   "id": "10d40092-6e63-4e3e-be58-9dc453ef315c",
   "metadata": {},
   "outputs": [
    {
     "name": "stdout",
     "output_type": "stream",
     "text": [
      "objective function value: -2.0\n",
      "variable values: x=0.0, y=1.0, z=0.0\n",
      "status: SUCCESS\n"
     ]
    }
   ],
   "source": [
    "exact_result = exact.solve(qubo)\n",
    "print(exact_result.prettyprint())"
   ]
  },
  {
   "cell_type": "code",
   "execution_count": 9,
   "id": "1d63963f-09ad-445a-8399-3c63252b2758",
   "metadata": {},
   "outputs": [
    {
     "name": "stdout",
     "output_type": "stream",
     "text": [
      "objective function value: -2.0\n",
      "variable values: x=0.0, y=1.0, z=0.0\n",
      "status: SUCCESS\n"
     ]
    }
   ],
   "source": [
    "qaoa_result = qaoa.solve(qubo)\n",
    "print(qaoa_result.prettyprint())"
   ]
  },
  {
   "cell_type": "code",
   "execution_count": 10,
   "id": "f59aa66a-2651-4b1f-8a1d-984dbc922974",
   "metadata": {},
   "outputs": [
    {
     "name": "stdout",
     "output_type": "stream",
     "text": [
      "objective function value: -4.0\n",
      "variable values: x0=1.0, x1=1.0, x2=0.0, x3=0.0\n",
      "status: SUCCESS\n"
     ]
    },
    {
     "data": {
      "text/plain": [
       "<MinimumEigenOptimizationResult: fval=-4.0, x0=1.0, x1=1.0, x2=0.0, x3=0.0, status=SUCCESS>"
      ]
     },
     "execution_count": 10,
     "metadata": {},
     "output_type": "execute_result"
    }
   ],
   "source": [
    "from utils.QuantumSolverV2 import QuantumQUBOSolver__V2\n",
    "\n",
    "Q = np.array([\n",
    "    [-3, 1, 1, 1],\n",
    "    [1, -3, 1, 1],\n",
    "    [1, 1, -3, 1],\n",
    "    [1, 1, 1, -3]\n",
    "], dtype=np.float64)\n",
    "\n",
    "# Define the linear term (bias term)\n",
    "c = np.array([0, 0, 0, 0], dtype=np.float64)\n",
    "\n",
    "QUBOSolver = QuantumQUBOSolver__V2(Q, c)\n",
    "QUBOSolver.solve()"
   ]
  },
  {
   "cell_type": "code",
   "execution_count": 11,
   "id": "48521f18-c733-4527-a13b-726f57635077",
   "metadata": {},
   "outputs": [
    {
     "data": {
      "text/plain": [
       "((4, 4), (4,))"
      ]
     },
     "execution_count": 11,
     "metadata": {},
     "output_type": "execute_result"
    }
   ],
   "source": [
    "Q.shape, c.shape"
   ]
  },
  {
   "cell_type": "code",
   "execution_count": 12,
   "id": "28b81612-c3fa-4026-8c6a-a0c8601afaa8",
   "metadata": {},
   "outputs": [
    {
     "data": {
      "text/plain": [
       "-4.0"
      ]
     },
     "execution_count": 12,
     "metadata": {},
     "output_type": "execute_result"
    }
   ],
   "source": [
    "v = np.array([1,1,0,0])\n",
    "\n",
    "v @ Q @ v.T"
   ]
  },
  {
   "cell_type": "code",
   "execution_count": 13,
   "id": "136d82a6-c59c-4308-af73-61b79bc07b46",
   "metadata": {},
   "outputs": [],
   "source": [
    "from utils.ClassicalSolver import DynamicGraph\n",
    "from utils.QuantumSolverV2 import QuantumQUBOSolver__V2\n",
    "\n",
    "import numpy as np\n",
    "from rustworkx.visualization import mpl_draw"
   ]
  },
  {
   "cell_type": "code",
   "execution_count": 14,
   "id": "31f13d6c-ac0e-4322-a622-febc76dd7a01",
   "metadata": {},
   "outputs": [
    {
     "name": "stdout",
     "output_type": "stream",
     "text": [
      "(3, 3, 3)\n"
     ]
    },
    {
     "data": {
      "image/png": "[encoded data removed]",
      "text/plain": [
       "<Figure size 640x480 with 1 Axes>"
      ]
     },
     "metadata": {},
     "output_type": "display_data"
    }
   ],
   "source": [
    "dynamicGraph = DynamicGraph(3)\n",
    "\n",
    "W = np.array([\n",
    "    [[0,0,0], [1,10,10], [10,10,1]],\n",
    "    [[1,10,10], [0,0,0], [10,1,10]],\n",
    "    [[10,10,1], [10,1,10], [0,0,0]],\n",
    "], dtype=np.float64)\n",
    "maps = dynamicGraph.AssignDynamicWeights(W)\n",
    "\n",
    "\n",
    "mpl_draw(dynamicGraph.Graph, with_labels=True, edge_labels=str)"
   ]
  },
  {
   "cell_type": "code",
   "execution_count": 15,
   "id": "9ef8c6a5-4e9b-4ea4-bd25-9e940e233122",
   "metadata": {},
   "outputs": [],
   "source": [
    "Q, c = dynamicGraph.ConvertToQUBO(100)"
   ]
  },
  {
   "cell_type": "code",
   "execution_count": 16,
   "id": "d4638be6-3a68-460d-ad81-b398c264cd0a",
   "metadata": {},
   "outputs": [
    {
     "data": {
      "text/plain": [
       "((9, 9), (9,))"
      ]
     },
     "execution_count": 16,
     "metadata": {},
     "output_type": "execute_result"
    }
   ],
   "source": [
    "Q.shape, c.shape"
   ]
  },
  {
   "cell_type": "code",
   "execution_count": 17,
   "id": "66848b2a-3744-4000-8e6c-c4b59350c5ea",
   "metadata": {},
   "outputs": [
    {
     "name": "stdout",
     "output_type": "stream",
     "text": [
      "objective function value: -600.0\n",
      "variable values: x0=0.0, x1=0.0, x2=1.0, x3=0.0, x4=1.0, x5=0.0, x6=1.0, x7=0.0, x8=0.0\n",
      "status: SUCCESS\n"
     ]
    },
    {
     "data": {
      "text/plain": [
       "<MinimumEigenOptimizationResult: fval=-600.0, x0=0.0, x1=0.0, x2=1.0, x3=0.0, x4=1.0, x5=0.0, x6=1.0, x7=0.0, x8=0.0, status=SUCCESS>"
      ]
     },
     "execution_count": 17,
     "metadata": {},
     "output_type": "execute_result"
    }
   ],
   "source": [
    "QUBOSolver = QuantumQUBOSolver__V2(Q, c)\n",
    "QUBOSolver.solve()"
   ]
  },
  {
   "cell_type": "code",
   "execution_count": 18,
   "id": "00d9a135-4dda-477b-bf2d-53753912a84b",
   "metadata": {},
   "outputs": [
    {
     "data": {
      "text/plain": [
       "array([[  0., 200., 200., 200.,   1.,   0., 200.,  10.,   0.],\n",
       "       [  0.,   0., 200.,   0., 200.,  10.,   0., 200.,  10.],\n",
       "       [  0.,   0.,   0.,   0.,   0., 200.,   0.,   0., 200.],\n",
       "       [  0.,   0.,   0.,   0., 200., 200., 200.,  10.,   0.],\n",
       "       [  0.,   0.,   0.,   0.,   0., 200.,   0., 200.,   1.],\n",
       "       [  0.,   0.,   0.,   0.,   0.,   0.,   0.,   0., 200.],\n",
       "       [  0.,   0.,   0.,   0.,   0.,   0.,   0., 200., 200.],\n",
       "       [  0.,   0.,   0.,   0.,   0.,   0.,   0.,   0., 200.],\n",
       "       [  0.,   0.,   0.,   0.,   0.,   0.,   0.,   0.,   0.]],\n",
       "      dtype=float32)"
      ]
     },
     "execution_count": 18,
     "metadata": {},
     "output_type": "execute_result"
    }
   ],
   "source": [
    "Q"
   ]
  },
  {
   "cell_type": "code",
   "execution_count": 19,
   "id": "663d5911-3167-45ae-a3fd-92e3923b8ed2",
   "metadata": {},
   "outputs": [
    {
     "name": "stdout",
     "output_type": "stream",
     "text": [
      "Problem name: \n",
      "\n",
      "Minimize\n",
      "  200*x0*x1 + 200*x0*x2 + 200*x0*x3 + x0*x4 + 200*x0*x6 + 10*x0*x7 + 200*x1*x2\n",
      "  + 200*x1*x4 + 10*x1*x5 + 200*x1*x7 + 10*x1*x8 + 200*x2*x5 + 200*x2*x8\n",
      "  + 200*x3*x4 + 200*x3*x5 + 200*x3*x6 + 10*x3*x7 + 200*x4*x5 + 200*x4*x7 + x4*x8\n",
      "  + 200*x5*x8 + 200*x6*x7 + 200*x6*x8 + 200*x7*x8 - 200*x0 - 200*x1 - 200*x2\n",
      "  - 200*x3 - 200*x4 - 200*x5 - 200*x6 - 200*x7 - 200*x8\n",
      "\n",
      "Subject to\n",
      "  No constraints\n",
      "\n",
      "  Binary variables (9)\n",
      "    x0 x1 x2 x3 x4 x5 x6 x7 x8\n",
      "\n"
     ]
    }
   ],
   "source": [
    "QUBOSolver.inspectQUBO()"
   ]
  }
 ],
 "metadata": {
  "kernelspec": {
   "display_name": "Python 3 (ipykernel)",
   "language": "python",
   "name": "python3"
  },
  "language_info": {
   "codemirror_mode": {
    "name": "ipython",
    "version": 3
   },
   "file_extension": ".py",
   "mimetype": "text/x-python",
   "name": "python",
   "nbconvert_exporter": "python",
   "pygments_lexer": "ipython3",
   "version": "3.9.18"
  }
 },
 "nbformat": 4,
 "nbformat_minor": 5
}
